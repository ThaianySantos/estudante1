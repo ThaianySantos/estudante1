{
  "nbformat": 4,
  "nbformat_minor": 0,
  "metadata": {
    "colab": {
      "provenance": [],
      "authorship_tag": "ABX9TyN8sbJM/isstDj4SjWuzQ27",
      "include_colab_link": true
    },
    "kernelspec": {
      "name": "python3",
      "display_name": "Python 3"
    },
    "language_info": {
      "name": "python"
    }
  },
  "cells": [
    {
      "cell_type": "markdown",
      "metadata": {
        "id": "view-in-github",
        "colab_type": "text"
      },
      "source": [
        "<a href=\"https://colab.research.google.com/github/ThaianySantos/estudante1/blob/main/Criando%20meu%20primeiro%20objeto%20no%20Python.ipynb\" target=\"_parent\"><img src=\"https://colab.research.google.com/assets/colab-badge.svg\" alt=\"Open In Colab\"/></a>"
      ]
    },
    {
      "cell_type": "code",
      "execution_count": null,
      "metadata": {
        "id": "sbJaUy5f5Pk_"
      },
      "outputs": [],
      "source": [
        "# ETE CÍCERO DIAS\n",
        "# ALUNA - THAIANY\n",
        "# PYTHON NOÇÃO 00\n",
        "\n",
        "class Carro:\n",
        "  def __init__ (Self):\n",
        "      self._nrodas = 4\n",
        "      def set  _nrodas(self, n)\n",
        "      self. _nrodas = n\n",
        "gol = Carro ()\n",
        "gol. _nrodas\n",
        "\n",
        "#gol.self_nrodas(10)\n",
        "#gol._nrodas\n",
        "\n",
        "#imprimir objeto...\n",
        "#c= Carro ()\n",
        "#print(c)\n",
        "\n",
        "\n",
        "\n"
      ]
    }
  ]
}