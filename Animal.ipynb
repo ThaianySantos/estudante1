{
  "nbformat": 4,
  "nbformat_minor": 0,
  "metadata": {
    "colab": {
      "provenance": [],
      "authorship_tag": "ABX9TyOVCml2tO6CbZy+1M1qV39p",
      "include_colab_link": true
    },
    "kernelspec": {
      "name": "python3",
      "display_name": "Python 3"
    },
    "language_info": {
      "name": "python"
    }
  },
  "cells": [
    {
      "cell_type": "markdown",
      "metadata": {
        "id": "view-in-github",
        "colab_type": "text"
      },
      "source": [
        "<a href=\"https://colab.research.google.com/github/ThaianySantos/estudante1/blob/main/Animal.ipynb\" target=\"_parent\"><img src=\"https://colab.research.google.com/assets/colab-badge.svg\" alt=\"Open In Colab\"/></a>"
      ]
    },
    {
      "cell_type": "code",
      "execution_count": 27,
      "metadata": {
        "colab": {
          "base_uri": "https://localhost:8080/"
        },
        "id": "EeuXXBKG1YxM",
        "outputId": "9fcdac17-2a3a-4b6d-c3a1-50ccc72fb36f"
      },
      "outputs": [
        {
          "output_type": "stream",
          "name": "stdout",
          "text": [
            "Animal Luna, tem 2 ano, do sexo Femea.\n",
            "Animal Duke, tem 1 ano, do sexo Macho.\n"
          ]
        }
      ],
      "source": [
        "\n",
        "# ETE Cicero dias\n",
        "# Aluna . Thaiany\n",
        "# Python noção 00\n",
        "\n",
        "class animal :\n",
        "    def __init__(self, nome, idade, sexo, raca):\n",
        "        self.nome = nome\n",
        "        self.idade = idade\n",
        "        self.sexo = sexo\n",
        "        self.raca = raca\n",
        "\n",
        "    def apresentar(self):\n",
        "        return f\"O animal {self.nome}, tem {self.idade} ano, do sexo {self.sexo}, raca {self.raca}.\"\n",
        "\n",
        "animal ('Duke', 1, 'Macho', 'cao')\n",
        "animal ('Luna', 2, 'Femea', 'gato')\n",
        "\n",
        "\n",
        "print(cao.apresentar())\n",
        "\n",
        "print(gato.apresentar())\n",
        "\n"
      ]
    }
  ]
}