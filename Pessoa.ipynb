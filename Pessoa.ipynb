{
  "nbformat": 4,
  "nbformat_minor": 0,
  "metadata": {
    "colab": {
      "provenance": [],
      "authorship_tag": "ABX9TyO7jSu5daIPaJw0plQZ1p5G",
      "include_colab_link": true
    },
    "kernelspec": {
      "name": "python3",
      "display_name": "Python 3"
    },
    "language_info": {
      "name": "python"
    }
  },
  "cells": [
    {
      "cell_type": "markdown",
      "metadata": {
        "id": "view-in-github",
        "colab_type": "text"
      },
      "source": [
        "<a href=\"https://colab.research.google.com/github/ThaianySantos/estudante1/blob/main/Pessoa.ipynb\" target=\"_parent\"><img src=\"https://colab.research.google.com/assets/colab-badge.svg\" alt=\"Open In Colab\"/></a>"
      ]
    },
    {
      "cell_type": "code",
      "execution_count": 1,
      "metadata": {
        "colab": {
          "base_uri": "https://localhost:8080/"
        },
        "id": "3pxPiVWV6U1b",
        "outputId": "31b1a894-1563-45b1-f9eb-f6cb1c0801f6"
      },
      "outputs": [
        {
          "output_type": "stream",
          "name": "stdout",
          "text": [
            "Olá, meu nome é Thaiany, tenho 18, anos, moro em Recife, e eu do gênero Feminino.\n",
            "Olá, meu nome é Hiago, tenho 18, anos, moro em Boa Viagem, e eu do gênero Masculino.\n"
          ]
        }
      ],
      "source": [
        "# ETE Cicero dias\n",
        "# Aluna . Thaiany\n",
        "# Python noção 00\n",
        "\n",
        "class Pessoa :\n",
        "  def __init__(self, nome, idade, endereco, genero) :\n",
        "    self.nome = nome\n",
        "    self.idade = idade\n",
        "    self.endereco = endereco\n",
        "    self.genero = genero\n",
        "\n",
        "  def apresentar(self) :\n",
        "    return f\"Olá, meu nome é {self.nome}, tenho {self.idade}, anos, moro em {self.endereco}, e eu do gênero {self.genero}.\"\n",
        "\n",
        "\n",
        "pessoa1 = Pessoa('Thaiany', 18, 'Recife', 'Feminino')\n",
        "pessoa2 = Pessoa('Hiago', 18, 'Boa Viagem', 'Masculino')\n",
        "\n",
        "\n",
        "print(pessoa1.apresentar())\n",
        "\n",
        "\n",
        "print(pessoa2.apresentar())"
      ]
    }
  ]
}