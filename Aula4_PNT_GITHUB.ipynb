{
  "nbformat": 4,
  "nbformat_minor": 0,
  "metadata": {
    "colab": {
      "provenance": []
    },
    "kernelspec": {
      "name": "python3",
      "display_name": "Python 3"
    },
    "language_info": {
      "name": "python"
    }
  },
  "cells": [
    {
      "cell_type": "code",
      "execution_count": 15,
      "metadata": {
        "colab": {
          "base_uri": "https://localhost:8080/"
        },
        "id": "m6IbEirGjFQX",
        "outputId": "65561b92-037d-4620-ccba-0215067b465d"
      },
      "outputs": [
        {
          "output_type": "stream",
          "name": "stdout",
          "text": [
            "<class 'str'>\n",
            "oi\n"
          ]
        }
      ],
      "source": [
        "# ETE CÍCERO DIAS\n",
        "# DOCENTE: CLOVES\n",
        "# ESTUDANTES: THAIANY E ALEHANDRO\n",
        "\n",
        "# print('Thaiany e Alehandro')\n",
        "\n",
        "p = 'thaiany'\n",
        "print(type(p))\n",
        "\n",
        "print('oi')"
      ]
    },
    {
      "cell_type": "code",
      "source": [],
      "metadata": {
        "id": "xqUJRrSsqJWC"
      },
      "execution_count": null,
      "outputs": []
    }
  ]
}