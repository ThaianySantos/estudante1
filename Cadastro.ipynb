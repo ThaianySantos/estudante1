{
  "nbformat": 4,
  "nbformat_minor": 0,
  "metadata": {
    "colab": {
      "provenance": [],
      "authorship_tag": "ABX9TyNmug2SNKrulmn7/qfAhP/5",
      "include_colab_link": true
    },
    "kernelspec": {
      "name": "python3",
      "display_name": "Python 3"
    },
    "language_info": {
      "name": "python"
    }
  },
  "cells": [
    {
      "cell_type": "markdown",
      "metadata": {
        "id": "view-in-github",
        "colab_type": "text"
      },
      "source": [
        "<a href=\"https://colab.research.google.com/github/ThaianySantos/estudante1/blob/main/Cadastro.ipynb\" target=\"_parent\"><img src=\"https://colab.research.google.com/assets/colab-badge.svg\" alt=\"Open In Colab\"/></a>"
      ]
    },
    {
      "cell_type": "code",
      "execution_count": 1,
      "metadata": {
        "colab": {
          "base_uri": "https://localhost:8080/"
        },
        "id": "3pxPiVWV6U1b",
        "outputId": "31b1a894-1563-45b1-f9eb-f6cb1c0801f6"
      },
      "outputs": [
        {
          "output_type": "stream",
          "name": "stdout",
          "text": [
            "Olá, meu nome é Thaiany, tenho 18, anos, moro em Recife, e eu do gênero Feminino.\n",
            "Olá, meu nome é Hiago, tenho 18, anos, moro em Boa Viagem, e eu do gênero Masculino.\n"
          ]
        }
      ],
      "source": [
        "# ETE Cicero dias\n",
        "# Aluna . Thaiany\n",
        "# Python noção 00\n",
        "\n",
        "class Cadastro:\n",
        "    def __init__(self):\n",
        "        self.pessoas = []\n",
        "\n",
        "    def adicionar_pessoa(self, pessoa):\n",
        "        self.pessoas.append(pessoa)\n",
        "\n",
        "    def listar_pessoas(self):\n",
        "        for pessoa in self.pessoas:\n",
        "            print(pessoa.apresentar())\n",
        "\n",
        "\n",
        "cadastro = Cadastro()\n",
        "\n",
        "\n",
        "pessoa1 = Pessoa(\"Thaiany\", 22, \"Rua Principal, 000\", \"Feminino\")\n",
        "pessoa2 = Pessoa(\"Hiago\", 24, \"Avenida Secundária, 000\", \"Masculino\")\n",
        "\n",
        "cadastro.adicionar_pessoa(pessoa1)\n",
        "cadastro.adicionar_pessoa(pessoa2)\n",
        "\n",
        "\n",
        "cadastro.listar_pessoas()"
      ]
    }
  ]
}