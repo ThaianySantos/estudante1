{
  "nbformat": 4,
  "nbformat_minor": 0,
  "metadata": {
    "colab": {
      "provenance": [],
      "authorship_tag": "ABX9TyOi8uQUaqmd9dgKPNL/WYSL",
      "include_colab_link": true
    },
    "kernelspec": {
      "name": "python3",
      "display_name": "Python 3"
    },
    "language_info": {
      "name": "python"
    }
  },
  "cells": [
    {
      "cell_type": "markdown",
      "metadata": {
        "id": "view-in-github",
        "colab_type": "text"
      },
      "source": [
        "<a href=\"https://colab.research.google.com/github/ThaianySantos/estudante1/blob/main/Petpi.ipynb\" target=\"_parent\"><img src=\"https://colab.research.google.com/assets/colab-badge.svg\" alt=\"Open In Colab\"/></a>"
      ]
    },
    {
      "cell_type": "code",
      "execution_count": null,
      "metadata": {
        "id": "wvQkbbOv5CiM"
      },
      "outputs": [],
      "source": [
        "# ETE Cicero dias\n",
        "# Aluna . Thaiany\n",
        "# Python noção 00\n",
        "\n",
        "class Pet:\n",
        "    def __init__(self, nome, idade, sexo):\n",
        "        self.nome = nome\n",
        "        self.idade = idade\n",
        "        self.sexo = sexo\n",
        "\n",
        "    def apresentar(self):\n",
        "        return f\"Pet adotado {self.nome}, tem {self.idade} ano, do sexo {self.sexo}.\"\n",
        "\n",
        "\n",
        "pet1 = Pet('Duke', 1, 'Macho')\n",
        "pet2= Pet('Luna', 2, 'Femea')\n",
        "\n",
        "\n",
        "print(pet1.apresentar())\n",
        "\n",
        "print(pet2.apresentar())\n",
        "\n"
      ]
    }
  ]
}