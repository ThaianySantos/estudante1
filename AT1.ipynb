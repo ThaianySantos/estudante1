{
  "nbformat": 4,
  "nbformat_minor": 0,
  "metadata": {
    "colab": {
      "provenance": [],
      "authorship_tag": "ABX9TyMg5VJPIIbSOf6qOVzO5801",
      "include_colab_link": true
    },
    "kernelspec": {
      "name": "python3",
      "display_name": "Python 3"
    },
    "language_info": {
      "name": "python"
    }
  },
  "cells": [
    {
      "cell_type": "markdown",
      "metadata": {
        "id": "view-in-github",
        "colab_type": "text"
      },
      "source": [
        "<a href=\"https://colab.research.google.com/github/ThaianySantos/estudante1/blob/main/AT1.ipynb\" target=\"_parent\"><img src=\"https://colab.research.google.com/assets/colab-badge.svg\" alt=\"Open In Colab\"/></a>"
      ]
    },
    {
      "cell_type": "markdown",
      "source": [],
      "metadata": {
        "id": "s4Wxeka0zy9g"
      }
    },
    {
      "cell_type": "code",
      "source": [
        "#1\n",
        "print('Olá ETE Cícero Dias')\n"
      ],
      "metadata": {
        "id": "m1rbsttuz2bg"
      },
      "execution_count": null,
      "outputs": []
    },
    {
      "cell_type": "code",
      "source": [
        "#2\n",
        "número = input ('Digite seu número')\n",
        "print (f'o número informado foi {número}')"
      ],
      "metadata": {
        "id": "iIHn4AzMys9Y"
      },
      "execution_count": null,
      "outputs": []
    },
    {
      "cell_type": "code",
      "source": [
        "#3\n",
        "x = int (input ('Digite o número de x') )\n",
        "y = int (input ('Digite o número de y') )\n",
        "soma = x+y\n",
        "print (soma)"
      ],
      "metadata": {
        "id": "lVkYA-E9z-xD"
      },
      "execution_count": null,
      "outputs": []
    },
    {
      "cell_type": "code",
      "source": [
        "#4\n",
        "x = int (input ('Digite o número de x') )\n",
        "y = int (input ('Digite o número de y') )\n",
        "soma = x+y\n",
        "print (soma)x = int (input ('Digite o número de x') )\n",
        "y = int (input ('Digite o número de y') )\n",
        "soma = x+y\n",
        "print (soma)"
      ],
      "metadata": {
        "id": "KubEojczz-zk"
      },
      "execution_count": null,
      "outputs": []
    },
    {
      "cell_type": "code",
      "source": [
        "#5\n",
        "metro = int (input (' Digite seu metro'))\n",
        "divisão = (metro/100)\n",
        "print(f'Seus metros em centímetros são:{divisão}')"
      ],
      "metadata": {
        "id": "_Xm6F2Mez-1T"
      },
      "execution_count": null,
      "outputs": []
    },
    {
      "cell_type": "code",
      "source": [
        "#6\n",
        "raio = int(input ('Digite o raio de um círculo'))\n",
        "area = (3.14)*(raio**2)\n",
        "print(f'Sua area mede:{area}')"
      ],
      "metadata": {
        "id": "5qdjDoTmz-3j"
      },
      "execution_count": null,
      "outputs": []
    },
    {
      "cell_type": "code",
      "source": [
        "#7\n",
        "base = int(input(' Digite o valor da base: '))\n",
        "altura = int(input(' Digite o valor da altura: '))\n",
        "area = base * altura\n",
        "resultado = area * 2\n",
        "print(f'O dobro da area é :{resultado}')"
      ],
      "metadata": {
        "id": "ejyH49Rjz-6E"
      },
      "execution_count": null,
      "outputs": []
    },
    {
      "cell_type": "code",
      "source": [
        "#8\n",
        "ganhos_horas = float(input(' Digite o valor de quanto você ganha por horas: '))\n",
        " horas = float(input(' Digite quantas horas você trabalha no dia: '))\n",
        " dias = float(input('Digite quantos dias no mês você trabalhou: '))\n",
        "resultado = horas * dias * ganhos_horas\n",
        "print(f'O seu salário é :{resultado}')"
      ],
      "metadata": {
        "id": "dCsq8KRHz-8z"
      },
      "execution_count": null,
      "outputs": []
    },
    {
      "cell_type": "code",
      "source": [
        "#9\n",
        "valor = float(input(' Digite um valor: '))\n",
        "if valor >= 0:\n",
        " print(' Seu valor é positivo ')\n",
        "else:\n",
        "  print(' Seu valor é negativo ')"
      ],
      "metadata": {
        "id": "Ofb0GVdIz--0"
      },
      "execution_count": null,
      "outputs": []
    },
    {
      "cell_type": "code",
      "execution_count": 9,
      "metadata": {
        "colab": {
          "base_uri": "https://localhost:8080/"
        },
        "id": "8tRwd5uwvGgL",
        "outputId": "7d55e634-0198-40ef-b7d8-438e98cb0282"
      },
      "outputs": [
        {
          "output_type": "stream",
          "name": "stdout",
          "text": [
            " Digite 'F' para 'feminino' e 'M' para 'masculino' G\n",
            "sexo invalido\n"
          ]
        }
      ],
      "source": [
        "#10\n",
        "genero = input(\" Digite 'F' para 'feminino' e 'M' para 'masculino' \")\n",
        "if genero == 'F':\n",
        "  print(' sexo feminino ')\n",
        "elif genero == 'M':\n",
        "  print('sexo masculino ')\n",
        "else:\n",
        "  print('sexo invalido')\n",
        ""
      ]
    }
  ]
}