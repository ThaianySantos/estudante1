{
  "nbformat": 4,
  "nbformat_minor": 0,
  "metadata": {
    "colab": {
      "provenance": [],
      "authorship_tag": "ABX9TyOyeAewo3DF7ID12Zdfn6rd",
      "include_colab_link": true
    },
    "kernelspec": {
      "name": "python3",
      "display_name": "Python 3"
    },
    "language_info": {
      "name": "python"
    }
  },
  "cells": [
    {
      "cell_type": "markdown",
      "metadata": {
        "id": "view-in-github",
        "colab_type": "text"
      },
      "source": [
        "<a href=\"https://colab.research.google.com/github/ThaianySantos/estudante1/blob/main/Adocaopet.ipynb\" target=\"_parent\"><img src=\"https://colab.research.google.com/assets/colab-badge.svg\" alt=\"Open In Colab\"/></a>"
      ]
    },
    {
      "cell_type": "code",
      "execution_count": 44,
      "metadata": {
        "colab": {
          "base_uri": "https://localhost:8080/"
        },
        "id": "LVI1E9X81SHR",
        "outputId": "f7fd1633-bbfd-4b4c-f3fa-41c43f8cb7de"
      },
      "outputs": [
        {
          "output_type": "stream",
          "name": "stdout",
          "text": [
            "Luna\n",
            "2\n",
            "feminino\n",
            "O pet adotado foi Luna, tem 2 anos, e do sexo feminino.\n"
          ]
        }
      ],
      "source": [
        "class Adocao:\n",
        "    def __init__(self, nome, idade, sexo,):\n",
        "        self.nome = nome\n",
        "        self.idade = idade\n",
        "        self.sexo = sexo\n",
        "\n",
        "    def apresentar(self):\n",
        "        return f\"O pet adotado foi {self.nome}, tem {self.idade} anos, e do sexo {self.sexo}.\"\n",
        "\n",
        "\n",
        "adocao1 = Adocao('Luna', 2, 'feminino')\n",
        "\n",
        "print(adocao1.nome)\n",
        "print(adocao1.idade)\n",
        "print(adocao1.sexo)\n",
        "print(adocao1.apresentar())\n",
        "\n",
        "\n"
      ]
    }
  ]
}